{
 "cells": [
  {
   "cell_type": "markdown",
   "metadata": {},
   "source": [
    "# A journey through the Pacific Northwest"
   ]
  },
  {
   "cell_type": "code",
   "execution_count": null,
   "metadata": {},
   "outputs": [],
   "source": [
    "import cv2\n",
    "import matplotlib.pyplot as plt\n",
    "import numpy as np\n",
    "import librosa\n",
    "\n",
    "from IPython.display import Audio\n",
    "\n",
    "IMAGE_PATH = 'images/'\n",
    "SOUND_PATH = 'sounds/'"
   ]
  },
  {
   "cell_type": "markdown",
   "metadata": {},
   "source": [
    "### 1.1 Correlation in Signals"
   ]
  },
  {
   "cell_type": "code",
   "execution_count": null,
   "metadata": {},
   "outputs": [],
   "source": [
    "flicker, flicker_sr = librosa.load(SOUND_PATH + 'flicker.mp3')\n",
    "\n",
    "display(Audio(flicker, rate=flicker_sr))"
   ]
  },
  {
   "cell_type": "code",
   "execution_count": null,
   "metadata": {},
   "outputs": [],
   "source": [
    "def calculate_sound_autocorrelation(y, sr, max_lag):\n",
    "    # Calculate autocorrelation using numpy\n",
    "    autocorr = np.correlate(y, y, mode='full')\n",
    "    autocorr = autocorr[autocorr.size // 2:]  # Keep only the second half\n",
    "    \n",
    "    # Normalize the autocorrelation\n",
    "    autocorr /= autocorr.max()\n",
    "\n",
    "    # Consider only lags up to max_lag\n",
    "    lags = np.arange(0, max_lag)\n",
    "    autocorr = autocorr[:max_lag]\n",
    "\n",
    "    return lags, autocorr"
   ]
  },
  {
   "cell_type": "code",
   "execution_count": null,
   "metadata": {},
   "outputs": [],
   "source": [
    "lags, autocorr = calculate_sound_autocorrelation(flicker, flicker_sr, flicker_sr)\n",
    "\n",
    "plt.figure(figsize=(10, 4))\n",
    "plt.plot(lags, autocorr)\n",
    "plt.xlabel('Lag (samples)')\n",
    "plt.ylabel('Autocorrelation')\n",
    "plt.title('Autocorrelation of Flicker Bird Call')\n",
    "plt.show()"
   ]
  },
  {
   "cell_type": "markdown",
   "metadata": {},
   "source": [
    "### 1.2 Segmentation, morphological operations, object attributes in images"
   ]
  },
  {
   "cell_type": "code",
   "execution_count": null,
   "metadata": {},
   "outputs": [],
   "source": [
    "issaquah_forest = cv2.imread(IMAGE_PATH + 'issaquah_forest.jpg')\n",
    "\n",
    "plt.imshow(cv2.cvtColor(issaquah_forest, cv2.COLOR_BGR2RGB))"
   ]
  },
  {
   "cell_type": "markdown",
   "metadata": {},
   "source": [
    "Source: Issaquah Forest Photo by <a href=\"https://unsplash.com/@iamthedave?utm_content=creditCopyText&utm_medium=referral&utm_source=unsplash\">Dave Hoefler</a> on <a href=\"https://unsplash.com/photos/forest-covered-with-fogs-rcE3_D-u2NE?utm_content=creditCopyText&utm_medium=referral&utm_source=unsplash\">Unsplash</a>\n",
    "  "
   ]
  },
  {
   "cell_type": "markdown",
   "metadata": {},
   "source": [
    "https://www.youtube.com/watch?v=YQ2wIOcO7aE&ab_channel=AppleseedOutdoors"
   ]
  },
  {
   "cell_type": "markdown",
   "metadata": {},
   "source": []
  }
 ],
 "metadata": {
  "kernelspec": {
   "display_name": ".venv",
   "language": "python",
   "name": "python3"
  },
  "language_info": {
   "codemirror_mode": {
    "name": "ipython",
    "version": 3
   },
   "file_extension": ".py",
   "mimetype": "text/x-python",
   "name": "python",
   "nbconvert_exporter": "python",
   "pygments_lexer": "ipython3",
   "version": "3.10.10"
  }
 },
 "nbformat": 4,
 "nbformat_minor": 2
}

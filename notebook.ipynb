{
 "cells": [
  {
   "cell_type": "markdown",
   "metadata": {},
   "source": [
    "# The Pacific Northwest"
   ]
  },
  {
   "cell_type": "code",
   "execution_count": null,
   "metadata": {},
   "outputs": [],
   "source": [
    "import cv2\n",
    "import matplotlib.pyplot as plt\n",
    "import numpy as np\n",
    "import librosa\n",
    "import os\n",
    "\n",
    "from IPython.display import Audio\n",
    "\n",
    "IMAGE_PATH = 'images/'\n",
    "SOUND_PATH = 'sounds/'"
   ]
  },
  {
   "cell_type": "markdown",
   "metadata": {},
   "source": [
    "### 1.1 Correlation in Signals"
   ]
  },
  {
   "cell_type": "code",
   "execution_count": null,
   "metadata": {},
   "outputs": [],
   "source": [
    "flicker, flicker_sr = librosa.load(SOUND_PATH + 'flicker.mp3')\n",
    "\n",
    "display(Audio(flicker, rate=flicker_sr))"
   ]
  },
  {
   "cell_type": "markdown",
   "metadata": {},
   "source": [
    "https://www.youtube.com/watch?v=YQ2wIOcO7aE&ab_channel=AppleseedOutdoors"
   ]
  },
  {
   "cell_type": "code",
   "execution_count": null,
   "metadata": {},
   "outputs": [],
   "source": [
    "def calculate_sound_autocorrelation(y, sr, max_lag):\n",
    "    # Calculate autocorrelation using numpy\n",
    "    autocorr = np.correlate(y, y, mode='full')\n",
    "    autocorr = autocorr[autocorr.size // 2:]  # Keep only the second half\n",
    "    \n",
    "    # Normalize the autocorrelation\n",
    "    autocorr /= autocorr.max()\n",
    "\n",
    "    # Consider only lags up to max_lag\n",
    "    lags = np.arange(0, max_lag)\n",
    "    autocorr = autocorr[:max_lag]\n",
    "\n",
    "    return lags, autocorr"
   ]
  },
  {
   "cell_type": "code",
   "execution_count": null,
   "metadata": {},
   "outputs": [],
   "source": [
    "lags, autocorr = calculate_sound_autocorrelation(flicker, flicker_sr, flicker_sr)\n",
    "\n",
    "plt.figure(figsize=(10, 4))\n",
    "plt.plot(lags, autocorr)\n",
    "plt.xlabel('Lag (samples)')\n",
    "plt.ylabel('Autocorrelation')\n",
    "plt.title('Autocorrelation of Flicker Bird Call')\n",
    "plt.show()"
   ]
  },
  {
   "cell_type": "markdown",
   "metadata": {},
   "source": [
    "#### Measuring periodicity numerically"
   ]
  },
  {
   "cell_type": "code",
   "execution_count": null,
   "metadata": {},
   "outputs": [],
   "source": [
    "from scipy.signal import find_peaks\n",
    "\n",
    "peak_samples, peak_correlations = find_peaks(autocorr, height=0.03, distance=1000)"
   ]
  },
  {
   "cell_type": "code",
   "execution_count": null,
   "metadata": {},
   "outputs": [],
   "source": [
    "# plot autocorrelation with samples marked\n",
    "plt.figure(figsize=(10, 4))\n",
    "plt.plot(lags, autocorr)\n",
    "\n",
    "# mark the samples with red bars\n",
    "plt.vlines(peak_samples, -1, 1, color='r')"
   ]
  },
  {
   "cell_type": "code",
   "execution_count": null,
   "metadata": {},
   "outputs": [],
   "source": [
    "# average difference between peaks\n",
    "avg_peak_diff = np.diff(peak_samples).mean()\n",
    "flicker_shifted = np.roll(flicker, int(avg_peak_diff))\n",
    "\n",
    "# plot the original signal\n",
    "plt.figure(figsize=(10, 4))\n",
    "plt.plot(flicker)\n",
    "plt.plot(flicker_shifted, color='r')\n",
    "plt.xlabel('Sample')\n",
    "plt.ylabel('Amplitude')\n",
    "plt.title('Flicker Bird Call')\n",
    "plt.show()"
   ]
  },
  {
   "cell_type": "code",
   "execution_count": null,
   "metadata": {},
   "outputs": [],
   "source": [
    "sample_window = (4500, 5500)\n",
    "flicker_sample = flicker[sample_window[0]:sample_window[1]]\n",
    "\n",
    "# plot the sample\n",
    "plt.figure(figsize=(10, 4))\n",
    "plt.plot(flicker)\n",
    "plt.vlines(sample_window, -1, 1, color='r')\n",
    "plt.xlabel('Sample')\n",
    "plt.ylabel('Amplitude')\n",
    "plt.title('Flicker Bird Call Sample')\n",
    "plt.show()"
   ]
  },
  {
   "cell_type": "code",
   "execution_count": null,
   "metadata": {},
   "outputs": [],
   "source": [
    "# find the flicker_sample in the flciker signal with cross-correlation\n",
    "cross_corr = np.correlate(flicker, flicker_sample, mode='full')\n",
    "#cross_corr = cross_corr[cross_corr.size // 2:]  # Keep only the second half\n",
    "\n",
    "# normalize the cross-correlation\n",
    "cross_corr /= cross_corr.max()\n",
    "\n",
    "# plot the cross-correlation\n",
    "plt.figure(figsize=(10, 4))\n",
    "plt.plot(cross_corr)\n",
    "plt.xlabel('Lag (samples)')\n",
    "plt.ylabel('Cross-correlation')\n",
    "plt.title('Cross-correlation of Flicker Bird Call Sample')\n",
    "plt.show()\n"
   ]
  },
  {
   "cell_type": "code",
   "execution_count": null,
   "metadata": {},
   "outputs": [],
   "source": [
    "sample_position = cross_corr.argmax()\n",
    "\n",
    "# plot the flicker signal and mark the sample_position with a vline\n",
    "plt.figure(figsize=(10, 4))\n",
    "plt.plot(flicker)\n",
    "plt.vlines(sample_position, -1, 1, color='r')\n",
    "plt.xlabel('Sample')\n",
    "plt.ylabel('Amplitude')\n",
    "plt.title('Flicker Bird Call')\n",
    "plt.show()"
   ]
  },
  {
   "cell_type": "markdown",
   "metadata": {},
   "source": [
    "### 1.2 Segmentation, morphological operations, object attributes in images"
   ]
  },
  {
   "cell_type": "markdown",
   "metadata": {},
   "source": [
    "Segmentation Techniques:\n",
    "- Threshold-based segmentation\n",
    "- Edge-based image segmentation\n",
    "- Region-based image segmentation\n",
    "- Clustering-based image segmentation\n",
    "- Artificial neural network-based segmentation"
   ]
  },
  {
   "cell_type": "code",
   "execution_count": null,
   "metadata": {},
   "outputs": [],
   "source": [
    "# load new image\n",
    "bear_family = cv2.imread(IMAGE_PATH + 'brown_bear_family.png')\n",
    "\n",
    "plt.imshow(cv2.cvtColor(bear_family, cv2.COLOR_BGR2RGB))"
   ]
  },
  {
   "cell_type": "markdown",
   "metadata": {},
   "source": [
    "Source: https://my-photo-blog.com/brown-bear-family"
   ]
  },
  {
   "cell_type": "code",
   "execution_count": null,
   "metadata": {},
   "outputs": [],
   "source": [
    "from skimage import io, color, exposure\n",
    "\n",
    "# Load the image\n",
    "image_path = IMAGE_PATH + 'brown_bear_family.png'\n",
    "image = io.imread(image_path)\n",
    "\n",
    "# Check if the image has an alpha channel (4th channel)\n",
    "if image.shape[-1] == 4:\n",
    "    # Discard the alpha channel\n",
    "    image = image[..., :3]\n",
    "\n",
    "# Convert image to grayscale\n",
    "gray_image = color.rgb2gray(image)\n",
    "\n",
    "# Increase contrast using histogram equalization\n",
    "equalized_image = exposure.equalize_adapthist(gray_image, clip_limit=0.03)\n",
    "\n",
    "# Display the original and the contrast-enhanced images\n",
    "fig, ax = plt.subplots(1, 2, figsize=(12, 5))\n",
    "\n",
    "# Original image\n",
    "ax[0].imshow(gray_image, cmap='gray')\n",
    "ax[0].set_title('Original Grayscale Image')\n",
    "ax[0].axis('off')\n",
    "\n",
    "# Contrast-enhanced image\n",
    "ax[1].imshow(equalized_image, cmap='gray')\n",
    "ax[1].set_title('Contrast Enhanced Image')\n",
    "ax[1].axis('off')\n",
    "\n",
    "plt.tight_layout()\n",
    "plt.show()\n"
   ]
  },
  {
   "cell_type": "code",
   "execution_count": null,
   "metadata": {},
   "outputs": [],
   "source": [
    "\n",
    "test_filter = np.array([[1,0,0],\n",
    "                        [1,1,0],\n",
    "                        [1,0,0]])\n",
    "\n",
    "# apply the filter to the image\n",
    "filtered_image = cv2.filter2D(equalized_image, -1, test_filter)\n",
    "\n",
    "# plot both images\n",
    "fig, ax = plt.subplots(1, 2, figsize=(12, 5))\n",
    "\n",
    "# original image\n",
    "ax[0].imshow(equalized_image, cmap='gray')\n",
    "ax[0].set_title('Original Image')\n",
    "ax[0].axis('off')"
   ]
  },
  {
   "cell_type": "code",
   "execution_count": null,
   "metadata": {},
   "outputs": [],
   "source": [
    "# binarize the image of the bear fmaily\n",
    "bear_family_gray = cv2.cvtColor(bear_family, cv2.COLOR_BGR2GRAY)\n",
    "bear_family_bin = bear_family_gray > 100\n",
    "\n",
    "plt.imshow(bear_family_bin, cmap='gray')\n"
   ]
  },
  {
   "cell_type": "code",
   "execution_count": null,
   "metadata": {},
   "outputs": [],
   "source": [
    "# apply erosion and dilation\n",
    "kernel = np.ones((9, 9), np.uint8)\n",
    "bear_family_bin_eroded = cv2.erode(bear_family_bin.astype(np.uint8), kernel, iterations=4)\n",
    "bear_family_bin_eroded_dilated = cv2.dilate(bear_family_bin_eroded, kernel, iterations=4)\n",
    "\n",
    "# plot the binarized image\n",
    "plt.imshow(bear_family_bin_eroded_dilated, cmap='gray')"
   ]
  },
  {
   "cell_type": "markdown",
   "metadata": {},
   "source": [
    "### 2.1 Keypoint Matching"
   ]
  },
  {
   "cell_type": "code",
   "execution_count": null,
   "metadata": {},
   "outputs": [],
   "source": [
    "def plot_images_from_folder(folder_path):\n",
    "    image_extensions = ['.jpg', '.jpeg', '.png', '.gif', '.bmp']\n",
    "    \n",
    "    images = []\n",
    "    for file in os.listdir(folder_path):\n",
    "        if any(file.endswith(ext) for ext in image_extensions):\n",
    "            img_path = os.path.join(folder_path, file)\n",
    "            images.append(cv2.imread(img_path))\n",
    "\n",
    "    # Plot images\n",
    "    plt.figure(figsize=(10, 10))\n",
    "    for i, img in enumerate(images, 1):\n",
    "        plt.subplot(len(images), 1, i)\n",
    "        plt.imshow(cv2.cvtColor(img, cv2.COLOR_BGR2RGB))\n",
    "        plt.axis('off')\n",
    "    plt.tight_layout()\n",
    "    plt.show()"
   ]
  },
  {
   "cell_type": "code",
   "execution_count": null,
   "metadata": {},
   "outputs": [],
   "source": [
    "plot_images_from_folder(IMAGE_PATH + 'keypoint_matching')"
   ]
  },
  {
   "cell_type": "code",
   "execution_count": null,
   "metadata": {},
   "outputs": [],
   "source": []
  }
 ],
 "metadata": {
  "kernelspec": {
   "display_name": ".venv",
   "language": "python",
   "name": "python3"
  },
  "language_info": {
   "codemirror_mode": {
    "name": "ipython",
    "version": 3
   },
   "file_extension": ".py",
   "mimetype": "text/x-python",
   "name": "python",
   "nbconvert_exporter": "python",
   "pygments_lexer": "ipython3",
   "version": "3.10.10"
  }
 },
 "nbformat": 4,
 "nbformat_minor": 2
}
